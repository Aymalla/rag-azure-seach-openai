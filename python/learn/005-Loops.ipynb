{
 "cells": [
  {
   "cell_type": "markdown",
   "metadata": {},
   "source": [
    "\n",
    "# Loops"
   ]
  },
  {
   "cell_type": "code",
   "execution_count": 10,
   "metadata": {},
   "outputs": [
    {
     "name": "stdout",
     "output_type": "stream",
     "text": [
      "# For loop with string\n",
      "P\n",
      "y\n",
      "t\n",
      "h\n",
      "o\n",
      "n\n",
      "# For loop with list\n",
      "a\n",
      "b\n",
      "c\n",
      "d\n",
      "# For loop with range\n",
      "0\n",
      "1\n",
      "2\n",
      "3\n",
      "4\n",
      "# For loop with range and step\n",
      "0\n",
      "2\n",
      "4\n",
      "6\n",
      "8\n",
      "# For loop with tuple\n",
      "a\n",
      "b\n",
      "c\n",
      "d\n",
      "# For loop with tuple of tuples\n",
      "age= 20 name= apple\n",
      "age= 30 name= banana\n",
      "age= 40 name= cherry\n",
      "# For loop with dictionary\n",
      "key= a value= apple\n",
      "key= b value= banana\n",
      "key= c value= cherry\n",
      "key= a value= apple\n",
      "key= b value= banana\n",
      "key= c value= cherry\n"
     ]
    }
   ],
   "source": [
    "# For loop\n",
    "print(\"# For loop with string\")\n",
    "word = \"Python\"\n",
    "for letter in word:\n",
    "    print(letter)\n",
    "  \n",
    "print(\"# For loop with list\")  \n",
    "list = [\"a\", \"b\", \"c\", \"d\"]\n",
    "for letter in list:\n",
    "    print(letter)\n",
    "    \n",
    "print(\"# For loop with range\")\n",
    "for number in range(5):\n",
    "    print(number)\n",
    "   \n",
    "print(\"# For loop with range and step\")\n",
    "for number in range(0, 10, 2):\n",
    "    print(number) \n",
    "    \n",
    "print(\"# For loop with tuple\")\n",
    "tuple = (\"a\", \"b\", \"c\", \"d\")\n",
    "for letter in tuple:\n",
    "    print(letter)\n",
    "\n",
    "print(\"# For loop with tuple of tuples\")  \n",
    "tuple = (\n",
    "    (20, \"apple\"),\n",
    "    (30, \"banana\"),\n",
    "    (40, \"cherry\")\n",
    ")\n",
    "for age,name in tuple:\n",
    "    print(\"age=\",age,\"name=\",name)\n",
    "  \n",
    "print(\"# For loop with dictionary\")\n",
    "dictionary = {\"a\": \"apple\", \"b\": \"banana\", \"c\": \"cherry\"}\n",
    "\n",
    "print(\"# For loop with dictionary using keys()\")\n",
    "for key in dictionary:\n",
    "    print(\"key=\",key,\"value=\",dictionary[key])\n",
    "\n",
    "print(\"# For loop with dictionary using items()\")\n",
    "for key,value in dictionary.items():\n",
    "    print(\"key=\",key,\"value=\",value)"
   ]
  },
  {
   "cell_type": "code",
   "execution_count": 11,
   "metadata": {},
   "outputs": [
    {
     "name": "stdout",
     "output_type": "stream",
     "text": [
      "# While loop\n",
      "0\n",
      "1\n",
      "2\n",
      "3\n",
      "4\n",
      "100\n",
      "90\n",
      "80\n",
      "70\n",
      "60\n",
      "50\n",
      "40\n",
      "30\n",
      "20\n",
      "10\n"
     ]
    }
   ],
   "source": [
    "# While loop\n",
    "print(\"# While loop\")\n",
    "number = 0\n",
    "while number < 5:\n",
    "    print(number)\n",
    "    number += 1 # number = number + 1\n",
    "    \n",
    "num = 100\n",
    "while num > 0:\n",
    "    print(num)\n",
    "    num -= 10 # num = num - 10\n"
   ]
  },
  {
   "cell_type": "code",
   "execution_count": 13,
   "metadata": {},
   "outputs": [
    {
     "name": "stdout",
     "output_type": "stream",
     "text": [
      "# Continue\n",
      "0\n",
      "1\n",
      "2\n",
      "3\n",
      "4\n",
      "6\n",
      "7\n",
      "8\n",
      "9\n",
      "# Break\n",
      "0\n",
      "1\n",
      "2\n",
      "3\n",
      "4\n"
     ]
    }
   ],
   "source": [
    "# Continue and break\n",
    "\n",
    "print(\"# Continue\")\n",
    "for number in range(10):\n",
    "    if number == 5: # if number is 5, skip it\n",
    "        continue\n",
    "    print(number)\n",
    "    \n",
    "print(\"# Break\")\n",
    "for number in range(10):\n",
    "    if number == 5: # if number is 5, stop the loop\n",
    "        break\n",
    "    print(number)"
   ]
  },
  {
   "cell_type": "code",
   "execution_count": 14,
   "metadata": {},
   "outputs": [
    {
     "name": "stdout",
     "output_type": "stream",
     "text": [
      "You win!\n"
     ]
    }
   ],
   "source": [
    "# Guessing game\n",
    "\n",
    "while True:\n",
    "    guess = input(\"Guess a number between 1 and 10: \")\n",
    "    guess = int(guess)\n",
    "    if guess < 5:\n",
    "        print(\"Too low\")\n",
    "    elif guess > 5:\n",
    "        print(\"Too high\")\n",
    "    else:\n",
    "        print(\"You win!\")\n",
    "        break"
   ]
  }
 ],
 "metadata": {
  "kernelspec": {
   "display_name": "Python 3",
   "language": "python",
   "name": "python3"
  },
  "language_info": {
   "codemirror_mode": {
    "name": "ipython",
    "version": 3
   },
   "file_extension": ".py",
   "mimetype": "text/x-python",
   "name": "python",
   "nbconvert_exporter": "python",
   "pygments_lexer": "ipython3",
   "version": "3.12.1"
  }
 },
 "nbformat": 4,
 "nbformat_minor": 2
}
