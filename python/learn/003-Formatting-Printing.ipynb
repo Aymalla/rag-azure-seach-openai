{
 "cells": [
  {
   "cell_type": "markdown",
   "metadata": {},
   "source": [
    "# Python Code Formatting"
   ]
  },
  {
   "cell_type": "code",
   "execution_count": 4,
   "metadata": {},
   "outputs": [],
   "source": [
    "variable = \"Value\""
   ]
  },
  {
   "cell_type": "code",
   "execution_count": 5,
   "metadata": {},
   "outputs": [
    {
     "name": "stdout",
     "output_type": "stream",
     "text": [
      "Outside function scope\n",
      "Inside function scope\n"
     ]
    }
   ],
   "source": [
    "# Function\n",
    "\n",
    "def name():\n",
    "    localVar = \"Hello name\"\n",
    "    print(\"Inside function scope\")\n",
    "\n",
    "print(\"Outside function scope\")\n",
    "name()"
   ]
  },
  {
   "cell_type": "code",
   "execution_count": 9,
   "metadata": {},
   "outputs": [
    {
     "name": "stdout",
     "output_type": "stream",
     "text": [
      "Inside if scope:> Hello if\n",
      "Outside if scope\n"
     ]
    }
   ],
   "source": [
    "if True:\n",
    "    localVar = \"Hello if\"\n",
    "    print(\"Inside if scope:> \" + localVar)\n",
    "\n",
    "print(\"Outside if scope\")"
   ]
  },
  {
   "cell_type": "markdown",
   "metadata": {},
   "source": [
    "# Printing"
   ]
  },
  {
   "cell_type": "code",
   "execution_count": 1,
   "metadata": {},
   "outputs": [
    {
     "name": "stdout",
     "output_type": "stream",
     "text": [
      "Hello `John` you are currently doing `Python` course\n",
      "Hello `John` you are currently doing `Python` course\n",
      "Hello `` you are currently doing `Python` course\n"
     ]
    }
   ],
   "source": [
    "course = \"Python\"\n",
    "name = \"John\"\n",
    "greeting = \"Hello `{}` you are currently doing `{}` course\".format(name, course)\n",
    "\n",
    "print(greeting)\n",
    "\n",
    "# f-string\n",
    "greeting = f\"Hello `{name}` you are currently doing `{course}` course\"\n",
    "print(greeting)\n",
    "\n"
   ]
  },
  {
   "cell_type": "markdown",
   "metadata": {},
   "source": [
    "# User Input"
   ]
  },
  {
   "cell_type": "code",
   "execution_count": 3,
   "metadata": {},
   "outputs": [
    {
     "name": "stdout",
     "output_type": "stream",
     "text": [
      "<class 'str'>\n",
      "You are 30 years old.\n"
     ]
    }
   ],
   "source": [
    "age = input(\"How old are you? \")\n",
    "print(type(age))\n",
    "print(f\"You are {age} years old.\")"
   ]
  }
 ],
 "metadata": {
  "kernelspec": {
   "display_name": "Python 3",
   "language": "python",
   "name": "python3"
  },
  "language_info": {
   "codemirror_mode": {
    "name": "ipython",
    "version": 3
   },
   "file_extension": ".py",
   "mimetype": "text/x-python",
   "name": "python",
   "nbconvert_exporter": "python",
   "pygments_lexer": "ipython3",
   "version": "3.12.1"
  }
 },
 "nbformat": 4,
 "nbformat_minor": 2
}
