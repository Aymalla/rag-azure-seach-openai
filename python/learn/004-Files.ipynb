{
 "cells": [
  {
   "cell_type": "markdown",
   "metadata": {},
   "source": [
    "# Working with files"
   ]
  },
  {
   "cell_type": "code",
   "execution_count": 12,
   "metadata": {},
   "outputs": [
    {
     "name": "stdout",
     "output_type": "stream",
     "text": [
      "Hello\n",
      "World\n",
      "\n",
      "['Hello\\n', 'World\\n']\n",
      "textfiles.txt\n",
      "<class '_io.TextIOWrapper'>\n"
     ]
    }
   ],
   "source": [
    "filePath = 'textfiles.txt'\n",
    "\n",
    "# Create a file\n",
    "with open(filePath, \"w\") as f:\n",
    "    f.writelines([\"Hello\\n\", \"World\\n\"])\n",
    "    f.close()\n",
    "\n",
    "# Read a file\n",
    "with open(filePath, \"r\") as f:\n",
    "    print(f.read())\n",
    "    f.seek(0)\n",
    "    print(f.readlines())\n",
    "    print(f.name)\n",
    "    f.close()\n",
    "   \n",
    "    print(type(f))\n",
    "  "
   ]
  }
 ],
 "metadata": {
  "kernelspec": {
   "display_name": "Python 3",
   "language": "python",
   "name": "python3"
  },
  "language_info": {
   "codemirror_mode": {
    "name": "ipython",
    "version": 3
   },
   "file_extension": ".py",
   "mimetype": "text/x-python",
   "name": "python",
   "nbconvert_exporter": "python",
   "pygments_lexer": "ipython3",
   "version": "3.12.1"
  }
 },
 "nbformat": 4,
 "nbformat_minor": 2
}
