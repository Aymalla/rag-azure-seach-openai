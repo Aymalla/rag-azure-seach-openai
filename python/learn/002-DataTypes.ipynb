{
 "cells": [
  {
   "cell_type": "markdown",
   "metadata": {},
   "source": [
    "# Python DataTypes and Variables"
   ]
  },
  {
   "cell_type": "code",
   "execution_count": 17,
   "metadata": {},
   "outputs": [
    {
     "name": "stdout",
     "output_type": "stream",
     "text": [
      "Python\n",
      "Python Programming\n",
      "123\n"
     ]
    }
   ],
   "source": [
    "# Variable are used to store values of any type\n",
    "course = \"Python\"\n",
    "print(course)\n",
    "course = \"Python Programming\"\n",
    "print(course)\n",
    "course = 123 \n",
    "print(course) "
   ]
  },
  {
   "cell_type": "code",
   "execution_count": 28,
   "metadata": {},
   "outputs": [
    {
     "name": "stdout",
     "output_type": "stream",
     "text": [
      "10\n",
      "10.0\n",
      "1000000000000000000000000000000000000000000000\n",
      "20\n",
      "100000000000\n",
      "3.14\n",
      "123456789.12345679\n"
     ]
    },
    {
     "data": {
      "text/plain": [
       "float"
      ]
     },
     "execution_count": 28,
     "metadata": {},
     "output_type": "execute_result"
    }
   ],
   "source": [
    "## Numeric Types\n",
    "# int, floats, complex numbers\n",
    "\n",
    "int1 = 10\n",
    "float1 = 10.0\n",
    "complex1 = 10**45\n",
    "\n",
    "print(int1)\n",
    "print(float1)\n",
    "print(complex1)\n",
    "\n",
    "\n",
    "# Integers\n",
    "age = 20\n",
    "print(age)\n",
    "type(age)\n",
    "\n",
    "num = 100_000_000_000\n",
    "print(num)\n",
    "type(num)\n",
    "\n",
    "# Floats\n",
    "pi = 3.14\n",
    "print(pi)\n",
    "type(pi)\n",
    "\n",
    "large_float = 123_456_789.123_456_789\n",
    "print(large_float)\n",
    "type(large_float)"
   ]
  },
  {
   "cell_type": "code",
   "execution_count": 19,
   "metadata": {},
   "outputs": [
    {
     "name": "stdout",
     "output_type": "stream",
     "text": [
      "True\n"
     ]
    }
   ],
   "source": [
    "## Boolean Type\n",
    "\n",
    "# True or False\n",
    "\n",
    "bool = True\n",
    "print(bool)"
   ]
  },
  {
   "cell_type": "code",
   "execution_count": 20,
   "metadata": {},
   "outputs": [
    {
     "name": "stdout",
     "output_type": "stream",
     "text": [
      "[1, 2, 3, 4, 5, 'Eggs', True]\n",
      "(1, 2, 3, 'Eggs', True)\n",
      "{False, 1, 2, 3, 4, 5, 'Eggs'}\n",
      "Hello World\n"
     ]
    }
   ],
   "source": [
    "## Sequence Types\n",
    "\n",
    "List = [1,2,3,4,5, 'Eggs', True] # mutable list\n",
    "Tuple = (1,2,3, 'Eggs', True) # immutable list\n",
    "Set1 = {1,3,4,5,2, 'Eggs', True, False} # ordered list of unique items\n",
    "string = \"Hello World\" # immutable list of characters\n",
    "\n",
    "print(List)\n",
    "print(Tuple)\n",
    "print(Set1)\n",
    "print(string)"
   ]
  },
  {
   "cell_type": "code",
   "execution_count": 21,
   "metadata": {},
   "outputs": [
    {
     "name": "stdout",
     "output_type": "stream",
     "text": [
      "This is a sentence\n",
      "What's your name?\n",
      "This is a sentence\n",
      "that spans across \n",
      "multiple lines\n",
      "This is a sentencethat spans across multiple lines\n",
      "This is a sentence\n",
      "that spans across multiple lines\n",
      "This is a sentencethat spans across multiple lines\n",
      "This is a sentence\n",
      "that spans across multiple lines\n",
      "P\n",
      "y\n",
      "t\n",
      "h\n",
      "o\n",
      "n\n",
      "\n"
     ]
    }
   ],
   "source": [
    "# Strings \"\", '', ''' ''', \"\"\" \"\"\"\n",
    "\n",
    "sentence = \"This is a sentence\"\n",
    "print(sentence)\n",
    "type(sentence)\n",
    "\n",
    "# escape characters\n",
    "sentence = 'What\\'s your name?'\n",
    "sentence = \"What's your name?\"\n",
    "sentence = '''What's your name?'''\n",
    "sentence = \"\"\"What's your name?\"\"\"\n",
    "\n",
    "print(sentence)\n",
    "\n",
    "# multi-line string\n",
    "\n",
    "sentence = '''This is a sentence\n",
    "that spans across \n",
    "multiple lines'''\n",
    "print(sentence)\n",
    "\n",
    "sentence = \"This is a sentence\" \\\n",
    "\"that spans across multiple lines\"\n",
    "print(sentence)\n",
    "\n",
    "sentence = \"This is a sentence\\n\" \\\n",
    "\"that spans across multiple lines\"\n",
    "\n",
    "print(sentence)\n",
    "\n",
    "sentence = (\n",
    "    \"This is a sentence\"\n",
    "    \"that spans across multiple lines\"\n",
    "    )\n",
    "\n",
    "print(sentence)\n",
    "\n",
    "sentence = (\n",
    "    \"This is a sentence\\n\"\n",
    "    \"that spans across multiple lines\"\n",
    "    )\n",
    "\n",
    "print(sentence)\n",
    "\n",
    "word = \"Python\" # just a sequence of characters\n",
    "for letter in word:\n",
    "    print(letter)\n",
    "    \n",
    "print(word[3:3])\n"
   ]
  },
  {
   "cell_type": "code",
   "execution_count": 22,
   "metadata": {},
   "outputs": [
    {
     "name": "stdout",
     "output_type": "stream",
     "text": [
      "[1, 2, 3, 4, 5]\n",
      "['Pizza', 'Pasta', 'Burger', 'Fries']\n",
      "[1, 2, 3, 'Pizza', 'Pasta', 'Burger', 'Fries', True, False]\n",
      "1\n",
      "2\n",
      "3\n",
      "Pizza\n",
      "Pasta\n",
      "Burger\n",
      "Fries\n",
      "True\n",
      "False\n",
      "[1, 2, 3, 'Pasta', 'Burger', 'Fries', True, False]\n",
      "1\n",
      "2\n",
      "False\n",
      "[1, 2, 3]\n"
     ]
    }
   ],
   "source": [
    "## List Operations\n",
    "# Lists [] - mutable\n",
    "numbers = [1, 2, 3, 4, 5]\n",
    "print(numbers)\n",
    "\n",
    "foods = [\"Pizza\", \"Pasta\", \"Burger\", \"Fries\"]\n",
    "print(foods)\n",
    "\n",
    "mixed = [1, 2, 3, \"Pizza\", \"Pasta\", \"Burger\", \"Fries\", True, False]\n",
    "print(mixed)\n",
    "\n",
    "for item in mixed:\n",
    "    print(item)\n",
    "    \n",
    "mixed.remove(mixed[mixed.index(\"Pizza\")])\n",
    "print(mixed)\n",
    "\n",
    "# indexing\n",
    "print(mixed[0])\n",
    "print(mixed[1])\n",
    "print(mixed[-1]) # reverse indexing -last item\n",
    "\n",
    "# slicing\n",
    "\n",
    "print(mixed[0:3])\n",
    "\n"
   ]
  },
  {
   "cell_type": "code",
   "execution_count": 23,
   "metadata": {},
   "outputs": [
    {
     "name": "stdout",
     "output_type": "stream",
     "text": [
      "{1, 2, 3, 4, 5}\n",
      "{1, 2, 3, 4, 5}\n",
      "{1, 2, 3, 4, 5, 6}\n",
      "{0, 1, 2, 3, 4, 5, 6}\n",
      "{1, 2, 3, 4, 5, 6}\n",
      "{'Blue', 'Red', 'Green'}\n",
      "{'Blue', 'Red', 'Green'}\n",
      "{'Blue', 'Red', 'Green'}\n"
     ]
    }
   ],
   "source": [
    "# Sets {} - ordered list of unique items\n",
    "from turtle import color\n",
    "\n",
    "\n",
    "numbers = {1, 2, 3, 4, 5}\n",
    "print(numbers)\n",
    "\n",
    "numbers = {1, 3, 4, 5, 2}\n",
    "print(numbers)\n",
    "\n",
    "# add items\n",
    "numbers.add(6)\n",
    "print(numbers)\n",
    "\n",
    "numbers.add(0)\n",
    "print(numbers)\n",
    "\n",
    "numbers.pop()\n",
    "print(numbers)\n",
    "\n",
    "colors = {\"Red\", \"Green\", \"Blue\"}\n",
    "print(colors)\n",
    "\n",
    "colors = {\"Red\", \"Green\", \"Blue\", \"Red\"}\n",
    "print(colors)\n",
    "\n",
    "lst = [\"Red\", \"Green\", \"Blue\", \"Red\"]\n",
    "colors1 = set(lst)\n",
    "print(colors1)\n",
    "\n",
    "# slicing\n",
    "# print(numbers[0:3]) # not supported"
   ]
  },
  {
   "cell_type": "code",
   "execution_count": 24,
   "metadata": {},
   "outputs": [
    {
     "name": "stdout",
     "output_type": "stream",
     "text": [
      "{'key1': 'value1', 'key2': 'value2', 'key3': 'value3'}\n",
      "{'name': 'John Doe', 'age': 30, 'city': 'New York', 'family': ['Jane Doe', 'Mark Doe']}\n",
      "John Doe\n",
      "John Doe\n",
      "Email not found\n",
      "{'name': 'John Doe', 'age': 30, 'city': 'New York', 'family': ['Jane Doe', 'Mark Doe'], 'email': 'email'}\n",
      "{'name': 'John Doe', 'age': 30, 'city': 'New York', 'family': ['Jane Doe', 'Mark Doe']}\n",
      "dict_keys(['name', 'age', 'city', 'family'])\n",
      "dict_values(['John Doe', 30, 'New York', ['Jane Doe', 'Mark Doe']])\n",
      "name => John Doe\n",
      "age => 30\n",
      "city => New York\n",
      "family => ['Jane Doe', 'Mark Doe']\n",
      "name => John Doe\n",
      "age => 30\n",
      "city => New York\n",
      "family => ['Jane Doe', 'Mark Doe']\n",
      "name\n",
      "age\n",
      "city\n",
      "family\n",
      "John Doe\n",
      "30\n",
      "New York\n",
      "['Jane Doe', 'Mark Doe']\n"
     ]
    }
   ],
   "source": [
    "## Dictionary Type\n",
    "\n",
    "dict = {\n",
    "    'key1': 'value1', \n",
    "    'key2': 'value2', \n",
    "    'key3': 'value3'\n",
    "    }\n",
    "\n",
    "person = {\n",
    "    'name': 'John Doe',\n",
    "    'age': 30,\n",
    "    'city': 'New York',\n",
    "    'family': ['Jane Doe', 'Mark Doe']\n",
    "}\n",
    "\n",
    "print(dict)\n",
    "print(person)\n",
    "type(person['age'])\n",
    "\n",
    "# get value from dictionary\n",
    "print(person['name'])\n",
    "print(person.get('name'))\n",
    "print(person.get('email', 'Email not found'))\n",
    "\n",
    "# Add new field to dictionary\n",
    "person['email'] = 'email'\n",
    "print(person)\n",
    "\n",
    "# delete field from dictionary\n",
    "del person['email']\n",
    "print(person)\n",
    "\n",
    "# get keys and values from dictionary\n",
    "keys = person.keys()\n",
    "print(keys)\n",
    "\n",
    "values = person.values()\n",
    "print(values)\n",
    "\n",
    "# loop through dictionary\n",
    "\n",
    "for key, value in person.items():\n",
    "    print(key,\"=>\", value)\n",
    "    \n",
    "for key in person:\n",
    "    print(key,\"=>\", person[key])\n",
    "    \n",
    "for key in person.keys():\n",
    "    print(key)\n",
    "\n",
    "for value in person.values():\n",
    "    print(value)"
   ]
  },
  {
   "cell_type": "markdown",
   "metadata": {},
   "source": [
    "## Immutable and mutable data types\n",
    "\n",
    "- __Mutable:__ can be changed after they are created (e.g. list, dict, set) \n",
    "- __Immutable:__ cannot be changed after they are created (string, tuple)"
   ]
  },
  {
   "cell_type": "code",
   "execution_count": 25,
   "metadata": {},
   "outputs": [
    {
     "name": "stdout",
     "output_type": "stream",
     "text": [
      "['Pizza', 'Burger', 'Pasta']\n",
      "['Pizza', 'Burger', 'Pasta', 'Fries']\n"
     ]
    }
   ],
   "source": [
    "## Mutable \n",
    "\n",
    "food = ['Pizza', 'Burger', 'Pasta']\n",
    "print(food)\n",
    "food.append('Fries')\n",
    "print(food)"
   ]
  },
  {
   "cell_type": "code",
   "execution_count": 26,
   "metadata": {},
   "outputs": [
    {
     "name": "stdout",
     "output_type": "stream",
     "text": [
      "('Pizza', 'Burger', 'Pasta')\n",
      "('Pizza', 'Burger')\n",
      "John\n",
      "JOHN\n"
     ]
    }
   ],
   "source": [
    "# Immutable\n",
    "\n",
    "food = ('Pizza', 'Burger', 'Pasta')\n",
    "print(food)\n",
    "\n",
    "# food.append('Fries') # AttributeError: 'tuple' object has no attribute 'append'\n",
    "# food.pop() # AttributeError: 'tuple' object has no attribute 'pop'\n",
    "\n",
    "# create new tuple from existing tuple\n",
    "new_food = food[0:2]\n",
    "print(new_food)\n",
    "\n",
    "del food\n",
    "# print(food) # NameError: name 'food' is not defined\n",
    "\n",
    "# food[0] = 'Fries' # TypeError: 'tuple' object does not support item assignment\n",
    "\n",
    "name = 'John'\n",
    "print(name)\n",
    "\n",
    "name = name.upper() # creates a new string in memory\n",
    "print(name)"
   ]
  },
  {
   "cell_type": "markdown",
   "metadata": {},
   "source": [
    "# Type Casting"
   ]
  },
  {
   "cell_type": "code",
   "execution_count": 29,
   "metadata": {},
   "outputs": [
    {
     "name": "stdout",
     "output_type": "stream",
     "text": [
      "20 <class 'str'>\n"
     ]
    },
    {
     "ename": "TypeError",
     "evalue": "'int' object is not callable",
     "output_type": "error",
     "traceback": [
      "\u001b[0;31m---------------------------------------------------------------------------\u001b[0m",
      "\u001b[0;31mTypeError\u001b[0m                                 Traceback (most recent call last)",
      "Cell \u001b[0;32mIn[29], line 4\u001b[0m\n\u001b[1;32m      1\u001b[0m age_str \u001b[38;5;241m=\u001b[39m \u001b[38;5;124m'\u001b[39m\u001b[38;5;124m20\u001b[39m\u001b[38;5;124m'\u001b[39m\n\u001b[1;32m      2\u001b[0m \u001b[38;5;28mprint\u001b[39m(age_str, \u001b[38;5;28mtype\u001b[39m(age_str))\n\u001b[0;32m----> 4\u001b[0m age \u001b[38;5;241m=\u001b[39m \u001b[38;5;28;43mint\u001b[39;49m\u001b[43m(\u001b[49m\u001b[43mage_str\u001b[49m\u001b[43m)\u001b[49m\n\u001b[1;32m      5\u001b[0m \u001b[38;5;28mprint\u001b[39m(age, \u001b[38;5;28mtype\u001b[39m(age))\n",
      "\u001b[0;31mTypeError\u001b[0m: 'int' object is not callable"
     ]
    }
   ],
   "source": [
    "age_str = '20'\n",
    "print(age_str, type(age_str))\n",
    "\n",
    "age = int(age_str)\n",
    "print(age, type(age))\n",
    "\n"
   ]
  }
 ],
 "metadata": {
  "kernelspec": {
   "display_name": "Python 3",
   "language": "python",
   "name": "python3"
  },
  "language_info": {
   "codemirror_mode": {
    "name": "ipython",
    "version": 3
   },
   "file_extension": ".py",
   "mimetype": "text/x-python",
   "name": "python",
   "nbconvert_exporter": "python",
   "pygments_lexer": "ipython3",
   "version": "3.12.1"
  }
 },
 "nbformat": 4,
 "nbformat_minor": 2
}
